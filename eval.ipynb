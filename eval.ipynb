{
 "cells": [
  {
   "metadata": {},
   "cell_type": "markdown",
   "source": "# Evaluating code-completion models on code samples",
   "id": "8e99a0127a58c29"
  },
  {
   "metadata": {},
   "cell_type": "markdown",
   "source": [
    "## load data\n",
    "I will use files with code from my [repository](https://github.com/SzymonKozl/kierki) with c++ game server."
   ],
   "id": "5c21916ca55d63a2"
  },
  {
   "metadata": {
    "ExecuteTime": {
     "end_time": "2025-03-17T06:42:41.136205Z",
     "start_time": "2025-03-17T06:42:40.414351Z"
    }
   },
   "cell_type": "code",
   "source": "!git clone https://github.com/SzymonKozl/kierki",
   "id": "a423f08a0311ca6c",
   "outputs": [
    {
     "name": "stdout",
     "output_type": "stream",
     "text": [
      "Cloning into 'kierki'...\r\n",
      "remote: Enumerating objects: 806, done.\u001B[K\r\n",
      "remote: Counting objects: 100% (258/258), done.\u001B[K\r\n",
      "remote: Compressing objects: 100% (160/160), done.\u001B[K\r\n",
      "remote: Total 806 (delta 166), reused 182 (delta 98), pack-reused 548 (from 1)\u001B[K\r\n",
      "Receiving objects: 100% (806/806), 167.73 KiB | 3.11 MiB/s, done.\r\n",
      "Resolving deltas: 100% (585/585), done.\r\n"
     ]
    }
   ],
   "execution_count": 1
  },
  {
   "metadata": {},
   "cell_type": "code",
   "outputs": [],
   "execution_count": null,
   "source": "",
   "id": "65a38e256237eb27"
  }
 ],
 "metadata": {
  "kernelspec": {
   "display_name": "Python 3",
   "language": "python",
   "name": "python3"
  },
  "language_info": {
   "codemirror_mode": {
    "name": "ipython",
    "version": 2
   },
   "file_extension": ".py",
   "mimetype": "text/x-python",
   "name": "python",
   "nbconvert_exporter": "python",
   "pygments_lexer": "ipython2",
   "version": "2.7.6"
  }
 },
 "nbformat": 4,
 "nbformat_minor": 5
}
